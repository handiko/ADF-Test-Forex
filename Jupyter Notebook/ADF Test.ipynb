{
 "cells": [
  {
   "cell_type": "code",
   "id": "initial_id",
   "metadata": {
    "collapsed": true
   },
   "source": [
    "import yfinance as yf\n",
    "from statsmodels.tsa.stattools import adfuller\n",
    "import pandas as pd\n",
    "\n",
    "# Define the list of forex pairs to test\n",
    "# The '=X' suffix is necessary for forex data on Yahoo Finance\n",
    "forex_pairs = ['AUDUSD=X', 'EURGBP=X', 'NZDUSD=X', 'USDCHF=X',\n",
    "               'AUDJPY=X', 'CADJPY=X', 'EURUSD=X', 'GBPUSD=X',\n",
    "               'NZDJPY=X', 'USDCAD=X', 'CHFJPY=X', 'EURJPY=X',\n",
    "               'EURNZD=X', 'GBPJPY=X', 'USDJPY=X', 'GC=F']\n",
    "\n",
    "# Define the time period for the data\n",
    "# Using a recent 2-year period is a good starting point for mean reversion tests\n",
    "start_date = '2015-01-01'\n",
    "end_date = '2025-01-01'\n",
    "\n",
    "# List to store the results for each pair\n",
    "results = []\n",
    "\n",
    "print(f\"--- Running ADF Test on {len(forex_pairs)} Pairs ---\")\n",
    "print(f\"Data Period: {start_date} to {end_date}\\n\")\n",
    "\n",
    "for pair in forex_pairs:\n",
    "    try:\n",
    "        data = yf.download(pair, start=start_date, end=end_date)\n",
    "        if data.empty:\n",
    "            print(f\"Warning: No data found for {pair}. Skipping...\")\n",
    "            continue\n",
    "\n",
    "        # Use the 'Close' price and remove any missing values\n",
    "        price_series = data['Close'].dropna()\n",
    "\n",
    "        # Run the ADF test\n",
    "        adf_result = adfuller(price_series)\n",
    "\n",
    "        # Store the results in a dictionary\n",
    "        results.append({\n",
    "            'Pair': pair,\n",
    "            'ADF Statistic': adf_result[0],\n",
    "            'p-value': adf_result[1]\n",
    "        })\n",
    "\n",
    "    except Exception as e:\n",
    "        print(f\"An error occurred for {pair}: {e}. Skipping...\")\n",
    "        continue\n",
    "\n",
    "# Sort the results from most to least mean-reverting\n",
    "# The ADF Statistic is negative, so we sort in ascending order (most negative first)\n",
    "results.sort(key=lambda x: x['ADF Statistic'])\n",
    "\n",
    "print(\"--- Ranked Results (Most Mean-Reverting to Least) ---\")\n",
    "print(\"{:<12} {:<15} {:<10}\".format('Pair', 'ADF Statistic', 'p-value'))\n",
    "print(\"-\" * 37)\n",
    "\n",
    "for r in results:\n",
    "    print(\"{:<12} {:<15.4f} {:<10.4f}\".format(r['Pair'], r['ADF Statistic'], r['p-value']))"
   ],
   "outputs": [],
   "execution_count": null
  }
 ],
 "metadata": {
  "kernelspec": {
   "display_name": "Python 3",
   "language": "python",
   "name": "python3"
  },
  "language_info": {
   "codemirror_mode": {
    "name": "ipython",
    "version": 2
   },
   "file_extension": ".py",
   "mimetype": "text/x-python",
   "name": "python",
   "nbconvert_exporter": "python",
   "pygments_lexer": "ipython2",
   "version": "2.7.6"
  }
 },
 "nbformat": 4,
 "nbformat_minor": 5
}
